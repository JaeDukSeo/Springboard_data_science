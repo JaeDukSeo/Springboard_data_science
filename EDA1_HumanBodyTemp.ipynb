{
 "cells": [
  {
   "cell_type": "markdown",
   "metadata": {},
   "source": [
    "# What is the True Normal Human Body Temperature? \n",
    "\n",
    "#### Background\n",
    "\n",
    "The mean normal body temperature was held to be 37$^{\\circ}$C or 98.6$^{\\circ}$F for more than 120 years since it was first conceptualized and reported by Carl Wunderlich in a famous 1868 book. But, is this value statistically correct?\n",
    "\n",
    "#### Exercise\n",
    "Analyze a dataset of human body temperatures and employ the concepts of hypothesis testing, confidence intervals, and statistical significance.\n",
    "\n",
    "<ol>\n",
    "<li>  Is the distribution of body temperatures normal? \n",
    "<li>  Is the sample size large? Are the observations independent?\n",
    "<li>  Is the true population mean really 98.6 degrees F?\n",
    "    <ul>\n",
    "    <li> One-sample or two-sample test? Why?\n",
    "    <li> Use $t$ or $z$ statistic? How is the result different if you use the other test? Why?\n",
    "    </ul>\n",
    "<li>  At what temperature should we consider someone's temperature to be \"abnormal\"? Compute the margin of error and confidence interval.\n",
    "<li>  Is there a significant difference between males and females in normal temperature? What test did you use and why?\n",
    "</ol>"
   ]
  },
  {
   "cell_type": "code",
   "execution_count": 311,
   "metadata": {},
   "outputs": [
    {
     "data": {
      "text/html": [
       "<div>\n",
       "<table border=\"1\" class=\"dataframe\">\n",
       "  <thead>\n",
       "    <tr style=\"text-align: right;\">\n",
       "      <th></th>\n",
       "      <th>temperature</th>\n",
       "      <th>gender</th>\n",
       "      <th>heart_rate</th>\n",
       "    </tr>\n",
       "  </thead>\n",
       "  <tbody>\n",
       "    <tr>\n",
       "      <th>0</th>\n",
       "      <td>99.3</td>\n",
       "      <td>F</td>\n",
       "      <td>68.0</td>\n",
       "    </tr>\n",
       "    <tr>\n",
       "      <th>1</th>\n",
       "      <td>98.4</td>\n",
       "      <td>F</td>\n",
       "      <td>81.0</td>\n",
       "    </tr>\n",
       "    <tr>\n",
       "      <th>2</th>\n",
       "      <td>97.8</td>\n",
       "      <td>M</td>\n",
       "      <td>73.0</td>\n",
       "    </tr>\n",
       "    <tr>\n",
       "      <th>3</th>\n",
       "      <td>99.2</td>\n",
       "      <td>F</td>\n",
       "      <td>66.0</td>\n",
       "    </tr>\n",
       "    <tr>\n",
       "      <th>4</th>\n",
       "      <td>98.0</td>\n",
       "      <td>F</td>\n",
       "      <td>73.0</td>\n",
       "    </tr>\n",
       "  </tbody>\n",
       "</table>\n",
       "</div>"
      ],
      "text/plain": [
       "   temperature gender  heart_rate\n",
       "0         99.3      F        68.0\n",
       "1         98.4      F        81.0\n",
       "2         97.8      M        73.0\n",
       "3         99.2      F        66.0\n",
       "4         98.0      F        73.0"
      ]
     },
     "execution_count": 311,
     "metadata": {},
     "output_type": "execute_result"
    }
   ],
   "source": [
    "import pandas as pd\n",
    "import numpy as np\n",
    "import scipy as sp\n",
    "import seaborn as sns\n",
    "import matplotlib.pyplot as plt\n",
    "import matplotlib.mlab as mlab\n",
    "%matplotlib inline\n",
    "\n",
    "pop_mean = 98.6\n",
    "\n",
    "df = pd.read_csv('data/human_body_temperature.csv')\n",
    "df.head()"
   ]
  },
  {
   "cell_type": "markdown",
   "metadata": {},
   "source": [
    "### Question 1: Is the distribution of body temperatures normal?\n",
    "The understand if the No, the sample does not have a normal distribution. Instead, the histogram appears to have a biomodal distribution and is skewed, with a few subjects showing body temperatures well above 3 standard deviations above the mean. Subsequent historgrams of body temperature for men and women separately show that the females are driving the temperatures  above the average, while the males samples have the lowest temperatures. Whether this different is statistically signficant will be determined below."
   ]
  },
  {
   "cell_type": "code",
   "execution_count": 237,
   "metadata": {
    "scrolled": true
   },
   "outputs": [
    {
     "data": {
      "text/plain": [
       "<matplotlib.lines.Line2D at 0x120d8b9b0>"
      ]
     },
     "execution_count": 237,
     "metadata": {},
     "output_type": "execute_result"
    },
    {
     "data": {
      "image/png": "[encoded data removed]",
      "text/plain": [
       "<matplotlib.figure.Figure at 0x120d9ae80>"
      ]
     },
     "metadata": {},
     "output_type": "display_data"
    }
   ],
   "source": [
    "df.temperature.plot.hist(bins=30)\n",
    "\n",
    "sample_mean = df.temperature.mean()\n",
    "sample_std = df.temperature.std()\n",
    "sample_var = df.temperature.var()\n",
    "\n",
    "#x = np.linspace(mean-3*var, mean+3*var, 100)\n",
    "#plt.plot(x, mlab.normpdf(x,mean,std))\n",
    "plt.axvline(x.mean(), color='r', linestyle='dashed', linewidth=1)"
   ]
  },
  {
   "cell_type": "markdown",
   "metadata": {},
   "source": [
    "Another way to test whether the sample data is normally distributed is:"
   ]
  },
  {
   "cell_type": "code",
   "execution_count": 238,
   "metadata": {},
   "outputs": [
    {
     "data": {
      "text/plain": [
       "NormaltestResult(statistic=2.7038014333192031, pvalue=0.2587479863488254)"
      ]
     },
     "execution_count": 238,
     "metadata": {},
     "output_type": "execute_result"
    }
   ],
   "source": [
    "scipy.stats.mstats.normaltest(df.temperature)"
   ]
  },
  {
   "cell_type": "code",
   "execution_count": 312,
   "metadata": {},
   "outputs": [
    {
     "name": "stderr",
     "output_type": "stream",
     "text": [
      "/Applications/anaconda/lib/python3.6/site-packages/statsmodels/nonparametric/kdetools.py:20: VisibleDeprecationWarning: using a non-integer number instead of an integer will result in an error in the future\n",
      "  y = X[:m/2+1] + np.r_[0,X[m/2+1:],0]*1j\n"
     ]
    },
    {
     "data": {
      "text/plain": [
       "<matplotlib.axes._subplots.AxesSubplot at 0x121c47c50>"
      ]
     },
     "execution_count": 312,
     "metadata": {},
     "output_type": "execute_result"
    },
    {
     "data": {
      "image/png": "[encoded data removed]",
      "text/plain": [
       "<matplotlib.figure.Figure at 0x121b5c710>"
      ]
     },
     "metadata": {},
     "output_type": "display_data"
    }
   ],
   "source": [
    "sns.distplot(df.temperature, bins= 15)"
   ]
  },
  {
   "cell_type": "markdown",
   "metadata": {},
   "source": [
    "### Question 2: Is the sample size large? Observations independent?\n",
    "\n",
    "With 130 samples, the sample size is sufficiently large. According to the CLT, a sample size of at least 50 observations is sufficiently large.\n",
    "If we assume that each sample is taken from a unique individual, then we can approximate the samples as independent."
   ]
  },
  {
   "cell_type": "markdown",
   "metadata": {},
   "source": [
    "### Question 3: Is the true population mean really 98.6 degrees F?\n",
    "To test if, based on the single observed sample, the actual population mean is equal to 98.6 degrees F. We must consider the following: \n",
    "- Despite the sample size >30, because we do not know the population standard deviation, it is appropriate to use a t-test. \n",
    "- We are comparing one sample to a population mean, and should therefore use a one-sample test.  \n",
    "- We are interested in whether the mean temperature for the observed samples is above or below the population mean. Since we are not concerned about the direction, we will use the two-sided test.\n",
    "\n",
    "The hypothsis that we're testing is:\n",
    "- H0: The mean temperature for the population and sample is 98.6 degrees F. \n",
    "- Ha: The mean body temperature of the sample is NOT equal to 98.6 F."
   ]
  },
  {
   "cell_type": "code",
   "execution_count": 266,
   "metadata": {},
   "outputs": [
    {
     "name": "stdout",
     "output_type": "stream",
     "text": [
      "Sample mean 98.24923076923078\n",
      "Sample std 0.7331831580389454\n",
      "t: -5.454823292364079\n"
     ]
    }
   ],
   "source": [
    "print('Sample mean {}' .format(sample_mean))\n",
    "print('Sample std {}' .format(sample_std))\n",
    "t = (sample_mean - pop_mean) / (sample_std / np.sqrt(len(df)))\n",
    "\n",
    "print('t: {}' .format(t))"
   ]
  },
  {
   "cell_type": "code",
   "execution_count": 270,
   "metadata": {},
   "outputs": [
    {
     "data": {
      "text/plain": [
       "Ttest_1sampResult(statistic=-5.4548232923645195, pvalue=2.4106320415561276e-07)"
      ]
     },
     "execution_count": 270,
     "metadata": {},
     "output_type": "execute_result"
    }
   ],
   "source": [
    "#double-checking with built-in function\n",
    "sp.stats.ttest_1samp(df.temperature, pop_mean)"
   ]
  },
  {
   "cell_type": "markdown",
   "metadata": {},
   "source": [
    "With a t-score of -5.45 and p-value of 2e-7, the sample is statistically significantly different from the population mean. "
   ]
  },
  {
   "cell_type": "markdown",
   "metadata": {},
   "source": [
    "As a comparison: Running a z-test instead shows a z-score of -0.478. Therefore the probability that P(Z < z ) = 0.3156, so the P(-z> Z >z) = 1 - (2 * 0.3156) = 0.3688.\n",
    "\n",
    "Using the z-test (incorrectly), we could falsely assume that there is no statistically significant different between the sample mean and population mean."
   ]
  },
  {
   "cell_type": "code",
   "execution_count": 279,
   "metadata": {},
   "outputs": [
    {
     "name": "stdout",
     "output_type": "stream",
     "text": [
      "z: -0.4784196512470687\n"
     ]
    }
   ],
   "source": [
    "z = (sample_mean - pop_mean) / (sample_std)\n",
    "print('z: {}' .format(z))"
   ]
  },
  {
   "cell_type": "markdown",
   "metadata": {},
   "source": [
    "###  Question 4: At what temperature should we consider someone's temperature to be \"abnormal\"?\n",
    "We can assume that an \"abnormal\" temperature is unlikley; I will therefore define a temperature as abnormal if it is outside the significance level (alpha) of 0.01. \n",
    "\n",
    "Since we are using a two-tailed hypothesis test, this equates to an upper-tail probability for 0.005. We will therefore use a t of +/- 2.576 to determine the upper and lower bounds of a \"normal\" temperature. "
   ]
  },
  {
   "cell_type": "code",
   "execution_count": 285,
   "metadata": {},
   "outputs": [
    {
     "data": {
      "text/plain": [
       "2.5758293035489004"
      ]
     },
     "execution_count": 285,
     "metadata": {},
     "output_type": "execute_result"
    }
   ],
   "source": [
    "#find z-score for 95% confidence\n",
    "import scipy.stats as stats\n",
    "t_critical = stats.norm.ppf(q = 0.995)\n",
    "t_critical"
   ]
  },
  {
   "cell_type": "code",
   "execution_count": 286,
   "metadata": {},
   "outputs": [
    {
     "name": "stdout",
     "output_type": "stream",
     "text": [
      "normal range (96.360676105885531, 100.13778543257602)\n"
     ]
    }
   ],
   "source": [
    "m_error = t_critical * sample_std \n",
    "normal = (sample_mean - m_error, sample_mean + m_error)\n",
    "print('normal range {}' .format(normal))"
   ]
  },
  {
   "cell_type": "markdown",
   "metadata": {},
   "source": [
    "Based on the above, a temperature should be considered abnormal if it is below 96.36 or above 100.14 degrees F."
   ]
  },
  {
   "cell_type": "markdown",
   "metadata": {},
   "source": [
    "###  Question 5: Is there a significant difference in normal temperature between males and females?"
   ]
  },
  {
   "cell_type": "markdown",
   "metadata": {},
   "source": [
    "We'll first plot the historgrams for the 2 genders. I have also defined the same bins for each gender, so I could also potentially plot the difference between the 2 histograms.  "
   ]
  },
  {
   "cell_type": "code",
   "execution_count": 287,
   "metadata": {},
   "outputs": [
    {
     "data": {
      "text/plain": [
       "<matplotlib.legend.Legend at 0x12102b7b8>"
      ]
     },
     "execution_count": 287,
     "metadata": {},
     "output_type": "execute_result"
    },
    {
     "data": {
      "image/png": "[encoded data removed]",
      "text/plain": [
       "<matplotlib.figure.Figure at 0x120f14fd0>"
      ]
     },
     "metadata": {},
     "output_type": "display_data"
    }
   ],
   "source": [
    "# female subjects\n",
    "b = np.linspace(96, 101, 40)\n",
    "females = df.temperature[df.gender == \"F\"]\n",
    "fn, fbins, fpatches = plt.hist(females, b, alpha = 0.5, label = 'female')\n",
    "\n",
    "#male subjects \n",
    "males = df.temperature[df.gender == \"M\"]\n",
    "mn, mbins, mpatches = plt.hist(males,b,  alpha = 0.5, label = 'male')\n",
    "\n",
    "plt.legend(loc = 'upper right')"
   ]
  },
  {
   "cell_type": "markdown",
   "metadata": {},
   "source": [
    "The overlaid histograms show that females tend to skew to higher temperatures, which males tend to skew towards slightly lower temperatures. \n",
    "\n",
    "Using a swarmplot (below), we visualize the gender difference differently. We can again see that women tend to have a slightly higher temperature and a broader range of temperatures."
   ]
  },
  {
   "cell_type": "code",
   "execution_count": 315,
   "metadata": {},
   "outputs": [
    {
     "data": {
      "image/png": "[encoded data removed]",
      "text/plain": [
       "<matplotlib.figure.Figure at 0x121d2ecf8>"
      ]
     },
     "metadata": {},
     "output_type": "display_data"
    }
   ],
   "source": [
    "_ = sns.swarmplot(x = 'gender', y = 'temperature', data = df)\n",
    "\n",
    "_ = plt.xlabel('Gender')\n",
    "_ = plt.ylabel('Degress (F)')\n",
    "\n",
    "plt.show()"
   ]
  },
  {
   "cell_type": "markdown",
   "metadata": {},
   "source": [
    "To understand if there is a statistically significant difference between the two genders: \n",
    "- H0: mean_female = mean_males\n",
    "- H1: mean_femals <> mean_males (or mean_females - mean_males = 0)\n",
    "\n",
    "To do so, we want to compute a two-sample t-test, which assesses if the mean of two samples is statistically significant."
   ]
  },
  {
   "cell_type": "code",
   "execution_count": 308,
   "metadata": {},
   "outputs": [
    {
     "name": "stdout",
     "output_type": "stream",
     "text": [
      "t-test: 2.285434538165274\n"
     ]
    }
   ],
   "source": [
    "n_m = len(df[df.gender == 'M'])\n",
    "mean_males = males.mean()\n",
    "var_males = males.var() / n_m\n",
    "\n",
    "n_f = len(df[df.gender == 'F'])\n",
    "mean_females = females.mean()\n",
    "var_females = females.var() / n_f\n",
    "\n",
    "std_diff = np.sqrt(var_females + var_males)\n",
    "mean_diff = mean_females - mean_males\n",
    "mean_diff, std_diff\n",
    "t = mean_diff / std_diff\n",
    "print('t-test: {}' .format(t))"
   ]
  },
  {
   "cell_type": "code",
   "execution_count": 303,
   "metadata": {},
   "outputs": [
    {
     "data": {
      "text/plain": [
       "Ttest_indResult(statistic=2.2854345381656103, pvalue=0.023931883122395609)"
      ]
     },
     "execution_count": 303,
     "metadata": {},
     "output_type": "execute_result"
    }
   ],
   "source": [
    "#double-checking with built-in methods\n",
    "f = df.temperature[df.gender == 'F']\n",
    "m = df.temperature[df.gender == 'M']\n",
    "\n",
    "sp.stats.ttest_ind(f, m)"
   ]
  },
  {
   "cell_type": "markdown",
   "metadata": {},
   "source": [
    "The t-score of 2.28 indicates that there is a statistically signficiant different in body temperature for men and women. Females have a higher mean temperature than the males in this sample set. "
   ]
  }
 ],
 "metadata": {
  "kernelspec": {
   "display_name": "Python 3",
   "language": "python",
   "name": "python3"
  },
  "language_info": {
   "codemirror_mode": {
    "name": "ipython",
    "version": 3
   },
   "file_extension": ".py",
   "mimetype": "text/x-python",
   "name": "python",
   "nbconvert_exporter": "python",
   "pygments_lexer": "ipython3",
   "version": "3.6.0"
  }
 },
 "nbformat": 4,
 "nbformat_minor": 1
}
